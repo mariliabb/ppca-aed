{
  "cells": [
    {
      "cell_type": "markdown",
      "metadata": {
        "colab_type": "text",
        "id": "view-in-github"
      },
      "source": [
        "<a href=\"https://colab.research.google.com/github/brunogresende/ppca-aed/blob/main/Aloca%C3%A7%C3%A3o_de_Pessoas_em_Trabalho_Remoto_Scheduling_Problem.ipynb\" target=\"_parent\"><img src=\"https://colab.research.google.com/assets/colab-badge.svg\" alt=\"Open In Colab\"/></a>"
      ]
    },
    {
      "cell_type": "code",
      "execution_count": 84,
      "metadata": {},
      "outputs": [],
      "source": [
        "#!pip install -U pulp\n",
        "from pulp import LpMaximize, LpProblem, LpStatus, lpSum, LpVariable, LpConstraint\n",
        "import math"
      ]
    },
    {
      "cell_type": "code",
      "execution_count": 85,
      "metadata": {
        "colab": {
          "base_uri": "https://localhost:8080/"
        },
        "id": "fYkpDrdQFY-4",
        "outputId": "5470d9fd-7747-47a1-9a94-a64694621bc9"
      },
      "outputs": [],
      "source": [
        "#notations\n",
        "n     = 120  #number of days for planning (20 = 1 month)\n",
        "tAJr  = 50  #number of junior analysts\n",
        "tASr  = 20  #number of senior analysts\n",
        "tE    = 10  #humber of specialists\n",
        "max_day_absence = math.floor((tAJr + tASr + tE)*0.3) #max absence allowed in team (30%)\n",
        "\n",
        "#decision variables\n",
        "var_LAJr = LpVariable.dicts(\"AbsenceAJr\", (range(n), range(tAJr)), 0, 1, \"Binary\")\n",
        "var_LASr = LpVariable.dicts(\"AbsenceASr\", (range(n), range(tASr)), 0, 1, \"Binary\")\n",
        "var_LE   = LpVariable.dicts(\"AbsenceEsp\", (range(n), range(tE)), 0, 1, \"Binary\")\n",
        "\n",
        "var_AJr = LpVariable.dicts(\"RemoteAJr\", (range(n), range(tAJr)), 0, 1, \"Binary\")\n",
        "var_ASr = LpVariable.dicts(\"RemoteASr\", (range(n), range(tASr)), 0, 1, \"Binary\")\n",
        "var_E   = LpVariable.dicts(\"RemoteEsp\", (range(n), range(tE)), 0, 1, \"Binary\")\n",
        "\n",
        "#objective function\n",
        "obj = None\n",
        "for i in range(n):\n",
        "  for j in range(tE):\n",
        "    obj += var_E[i][j]\n",
        "    for jj in range(tAJr):\n",
        "      obj += var_AJr[i][jj]\n",
        "      for jjj in range(tASr):\n",
        "        obj += var_ASr[i][jjj]\n",
        "\n",
        "problem = LpProblem(\"Schedule\", LpMaximize)\n",
        "problem += obj"
      ]
    },
    {
      "cell_type": "code",
      "execution_count": 86,
      "metadata": {},
      "outputs": [
        {
          "data": {
            "text/plain": [
              "24"
            ]
          },
          "execution_count": 86,
          "metadata": {},
          "output_type": "execute_result"
        }
      ],
      "source": [
        "max_day_absence"
      ]
    },
    {
      "cell_type": "code",
      "execution_count": 87,
      "metadata": {},
      "outputs": [],
      "source": [
        "#constraint 0\n",
        "#absences configuration\n",
        "\n",
        "#funci AJr 1, 0-5 dias de férias\n",
        "for i in range(0,5):\n",
        "  problem += var_LAJr[i][1] == 1\n",
        "\n",
        "#funci ASr 0, 5-15 dias de férias\n",
        "for i in range(5,15):\n",
        "  problem += var_LASr[i][0] == 1\n",
        "\n",
        "#funci Esp 1, 3 dias de abono\n",
        "for i in range(17,19):\n",
        "  problem += var_LE[i][1] == 1\n",
        "\n",
        "#funci ASr 1, 2 dias de abono\n",
        "for i in range(4,6):\n",
        "  problem += var_LASr[i][1] == 1\n"
      ]
    },
    {
      "cell_type": "code",
      "execution_count": 88,
      "metadata": {},
      "outputs": [],
      "source": [
        "#constraint 1\n",
        "#cada funcionário poderá estar trabalhando remoto (1), trabalhando no escritório (0) ou ausente (1), de forma excludente. \n",
        "\n",
        "c = None\n",
        "\n",
        "for i in range(n):\n",
        "  \n",
        "  for j in range(tAJr):\n",
        "    c = lpSum(var_AJr[i][j] + var_LAJr[i][j]) <= 1\n",
        "    problem += c\n",
        "    \n",
        "  for jj in range(tASr):\n",
        "    c = lpSum(var_ASr[i][jj] + var_LASr[i][jj]) <= 1\n",
        "    problem += c\n",
        "      \n",
        "  for jjj in range(tE):\n",
        "    c = lpSum(var_E[i][jjj] + var_LE[i][jjj]) <= 1\n",
        "    problem += c \n"
      ]
    },
    {
      "cell_type": "code",
      "execution_count": 89,
      "metadata": {},
      "outputs": [],
      "source": [
        "#constraint 2 \n",
        "#cada funcionário poderá ser alocado no máximo 8 dias em home-office no mês. \n",
        "for j in range(tAJr):\n",
        "  c = None\n",
        "  for i in range(n):\n",
        "    c += var_AJr[i][j]\n",
        "  problem += c <=8\n",
        "\n",
        "for j in range(tASr):\n",
        "  c = None\n",
        "  for i in range(n):\n",
        "    c += var_ASr[i][j]\n",
        "  problem += c <=8\n",
        "\n",
        "for j in range(tE):\n",
        "  c = None\n",
        "  for i in range(n):\n",
        "    c += var_E[i][j]\n",
        "  problem += c <=8\n"
      ]
    },
    {
      "cell_type": "code",
      "execution_count": 90,
      "metadata": {},
      "outputs": [],
      "source": [
        "#constraint 3\n",
        "#a quantidade máxima de ausências do escritório em um dia deve ser no máximo 30% do total de funcionários da equipe. \n",
        "c = None\n",
        "for i in range(n):\n",
        "  for j in range(tAJr):\n",
        "    c += var_AJr[i][j] + var_LAJr[i][j]\n",
        "problem += (c <= max_day_absence*n)\n",
        "\n",
        "c = None\n",
        "for i in range(n):\n",
        "  for j in range(tASr):\n",
        "    c += var_ASr[i][j] + var_LASr[i][j]\n",
        "problem += (c <= max_day_absence*n)\n",
        "\n",
        "c = None\n",
        "for i in range(n):\n",
        "  for j in range(tE):\n",
        "    c += var_E[i][j] + var_LE[i][j]\n",
        "problem += (c <= max_day_absence*n)"
      ]
    },
    {
      "cell_type": "code",
      "execution_count": 91,
      "metadata": {},
      "outputs": [],
      "source": [
        "# See the modeled problem\n",
        "#problem"
      ]
    },
    {
      "cell_type": "code",
      "execution_count": 92,
      "metadata": {},
      "outputs": [
        {
          "name": "stdout",
          "output_type": "stream",
          "text": [
            "Solution Time: 0.5555694103240967\n",
            "Solution CPU Time: 0.5630000000091968\n",
            "Status: 1, Optimal\n",
            "Objective: 84080.0\n"
          ]
        }
      ],
      "source": [
        "# Solve the problem\n",
        "status = problem.solve()\n",
        "\n",
        "# print results\n",
        "print(f\"Solution Time: {problem.solutionTime}\")\n",
        "print(f\"Solution CPU Time: {problem.solutionCpuTime}\")\n",
        "print(f\"Status: {problem.status}, {LpStatus[problem.status]}\")\n",
        "print(f\"Objective: {problem.objective.value()}\")\n",
        "\n",
        "#for var in problem.variables():\n",
        "#    print(f\"{var.name}: {var.value()}\")\n",
        "\n",
        "#for name, constraint in problem.constraints.items():\n",
        "#    print(f\"{name}: {constraint.value()}\")"
      ]
    }
  ],
  "metadata": {
    "colab": {
      "authorship_tag": "ABX9TyPV+sd3IMpbceA08oaayVZN",
      "include_colab_link": true,
      "provenance": []
    },
    "kernelspec": {
      "display_name": "Python 3.9.12 ('base')",
      "language": "python",
      "name": "python3"
    },
    "language_info": {
      "codemirror_mode": {
        "name": "ipython",
        "version": 3
      },
      "file_extension": ".py",
      "mimetype": "text/x-python",
      "name": "python",
      "nbconvert_exporter": "python",
      "pygments_lexer": "ipython3",
      "version": "3.9.12"
    },
    "vscode": {
      "interpreter": {
        "hash": "86ced299d573a58fc1d464bd2f917835a691b9d9cefee14c59fce60008360703"
      }
    }
  },
  "nbformat": 4,
  "nbformat_minor": 0
}
