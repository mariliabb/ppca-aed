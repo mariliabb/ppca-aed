{
  "cells": [
    {
      "cell_type": "markdown",
      "metadata": {
        "colab_type": "text",
        "id": "view-in-github"
      },
      "source": [
        "<a href=\"https://colab.research.google.com/github/brunogresende/ppca-aed/blob/main/Aloca%C3%A7%C3%A3o_de_Pessoas_em_Trabalho_Remoto_Scheduling_Problem.ipynb\" target=\"_parent\"><img src=\"https://colab.research.google.com/assets/colab-badge.svg\" alt=\"Open In Colab\"/></a>"
      ]
    },
    {
      "cell_type": "code",
      "execution_count": 96,
      "metadata": {},
      "outputs": [],
      "source": [
        "#!pip install -U pulp\n",
        "\n",
        "from pulp import LpMaximize, LpProblem, LpStatus, lpSum, LpVariable, LpConstraint\n",
        "import numpy as np\n",
        "import pandas as pd\n",
        "import matplotlib.pyplot as plt\n",
        "import seaborn as sns\n",
        "import math"
      ]
    },
    {
      "cell_type": "code",
      "execution_count": 97,
      "metadata": {
        "colab": {
          "base_uri": "https://localhost:8080/"
        },
        "id": "fYkpDrdQFY-4",
        "outputId": "5470d9fd-7747-47a1-9a94-a64694621bc9"
      },
      "outputs": [],
      "source": [
        "#Notations\n",
        "n     = 20  #number of days for planning (20 = 1 month)\n",
        "tAJr  = 20  #number of junior analysts\n",
        "tASr  = 10  #number of senior analysts\n",
        "tE    = 5   #number of specialists\n",
        "max_day_team_absence = math.ceil((tAJr + tASr + tE)*0.3) #max absence allowed in team (30%), ceil rounding\n",
        "\n",
        "#Decision variables\n",
        "#Absences: 1 if day-off, 0 otherwise\n",
        "var_LAJr = LpVariable.dicts(\"AbsenceAJr\", (range(n), range(tAJr)), 0, 1, \"Binary\")\n",
        "var_LASr = LpVariable.dicts(\"AbsenceASr\", (range(n), range(tASr)), 0, 1, \"Binary\")\n",
        "var_LE   = LpVariable.dicts(\"AbsenceEsp\", (range(n), range(tE)), 0, 1, \"Binary\")\n",
        "\n",
        "#Remote: 1 if remote work, 0 otherwise\n",
        "var_AJr = LpVariable.dicts(\"RemoteAJr\", (range(n), range(tAJr)), 0, 1, \"Binary\")\n",
        "var_ASr = LpVariable.dicts(\"RemoteASr\", (range(n), range(tASr)), 0, 1, \"Binary\")\n",
        "var_E   = LpVariable.dicts(\"RemoteEsp\", (range(n), range(tE)), 0, 1, \"Binary\")\n",
        "\n",
        "#Objective function\n",
        "obj = None\n",
        "for i in range(n):\n",
        "  for j in range(tE):\n",
        "    obj += var_E[i][j]\n",
        "    for jj in range(tAJr):\n",
        "      obj += var_AJr[i][jj]\n",
        "      for jjj in range(tASr):\n",
        "        obj += var_ASr[i][jjj]\n",
        "\n",
        "problem = LpProblem(\"Schedule\", LpMaximize)\n",
        "problem += obj"
      ]
    },
    {
      "cell_type": "code",
      "execution_count": 98,
      "metadata": {},
      "outputs": [
        {
          "data": {
            "text/plain": [
              "11"
            ]
          },
          "execution_count": 98,
          "metadata": {},
          "output_type": "execute_result"
        }
      ],
      "source": [
        "max_day_team_absence"
      ]
    },
    {
      "cell_type": "code",
      "execution_count": 99,
      "metadata": {},
      "outputs": [],
      "source": [
        "#Constraint 0\n",
        "#Absences configuration\n",
        "\n",
        "#funci AJr 1, 0-5 dias de férias\n",
        "for i in range(0,5):\n",
        "  problem += var_LAJr[i][1] == 1\n",
        "\n",
        "#funci ASr 0, 5-15 dias de férias\n",
        "for i in range(5,15):\n",
        "  problem += var_LASr[i][0] == 1\n",
        "\n",
        "#funci AJr 5, 15-20 dias de férias\n",
        "for i in range(15,20):\n",
        "  problem += var_LAJr[i][5] == 1\n",
        "\n",
        "#funci Esp 1, 3 dias de abono\n",
        "for i in range(17,19):\n",
        "  problem += var_LE[i][1] == 1\n",
        "\n",
        "#funci AJr 10, 2 dias de abono\n",
        "for i in range(3,5):\n",
        "  problem += var_AJr[i][10] == 1\n",
        "\n",
        "#funci ASr 1, 2 dias de abono\n",
        "for i in range(4,6):\n",
        "  problem += var_LASr[i][1] == 1\n"
      ]
    },
    {
      "cell_type": "code",
      "execution_count": 100,
      "metadata": {},
      "outputs": [],
      "source": [
        "#Constraint 1\n",
        "#Cada funcionário poderá estar trabalhando remoto (1), trabalhando no escritório (0) ou ausente (1), de forma excludente. \n",
        "\n",
        "c = None\n",
        "\n",
        "for i in range(n):\n",
        "  \n",
        "  for j in range(tAJr):\n",
        "    c = lpSum(var_AJr[i][j] + var_LAJr[i][j]) <= 1\n",
        "    problem += c\n",
        "    \n",
        "  for jj in range(tASr):\n",
        "    c = lpSum(var_ASr[i][jj] + var_LASr[i][jj]) <= 1\n",
        "    problem += c\n",
        "      \n",
        "  for jjj in range(tE):\n",
        "    c = lpSum(var_E[i][jjj] + var_LE[i][jjj]) <= 1\n",
        "    problem += c \n"
      ]
    },
    {
      "cell_type": "code",
      "execution_count": 101,
      "metadata": {},
      "outputs": [],
      "source": [
        "#Constraint 2 \n",
        "#Cada funcionário poderá ser alocado no máximo 8 dias em home-office no mês. \n",
        "for j in range(tAJr):\n",
        "  c = None\n",
        "  for i in range(n):\n",
        "    c += var_AJr[i][j]\n",
        "  problem += c <=8\n",
        "\n",
        "for j in range(tASr):\n",
        "  c = None\n",
        "  for i in range(n):\n",
        "    c += var_ASr[i][j]\n",
        "  problem += c <=8\n",
        "\n",
        "for j in range(tE):\n",
        "  c = None\n",
        "  for i in range(n):\n",
        "    c += var_E[i][j]\n",
        "  problem += c <=8\n"
      ]
    },
    {
      "cell_type": "code",
      "execution_count": 102,
      "metadata": {},
      "outputs": [],
      "source": [
        "#Constraint 3\n",
        "#A quantidade máxima de ausências do escritório deve ser 30% do total de funcionários da equipe. \n",
        "\n",
        "c = None\n",
        "for i in range(n):\n",
        "  for j in range(tAJr):\n",
        "    c += var_AJr[i][j] + var_LAJr[i][j]\n",
        "\n",
        "  for jj in range(tASr):\n",
        "    c += var_ASr[i][jj] + var_LASr[i][jj]\n",
        "\n",
        "  for jjj in range(tE):\n",
        "    c += var_E[i][jjj] + var_LE[i][jjj]\n",
        "\n",
        "problem += (c <= max_day_team_absence*n)"
      ]
    },
    {
      "cell_type": "code",
      "execution_count": 103,
      "metadata": {},
      "outputs": [],
      "source": [
        "#Constraint 4\n",
        "#Pelo menos um Especialista deve estar presente no escritório em um dia de trabalho\n",
        "\n",
        "for i in range(n):\n",
        "  c = None\n",
        "  for j in range(tE):\n",
        "    c += var_E[i][j] + var_LE[i][j]\n",
        "  problem += (c <= tE-1)\n"
      ]
    },
    {
      "cell_type": "code",
      "execution_count": 104,
      "metadata": {},
      "outputs": [],
      "source": [
        "#Constraint 5\n",
        "#De forma a manter a interação entre o time, todos os colegas devem estar no escritório às quartas-feiras, exceto ausências planejadas.\n",
        "\n",
        "for i in range(2,n,5):\n",
        "  c = None\n",
        "  for j in range(tAJr):\n",
        "    c += var_AJr[i][j] \n",
        "\n",
        "  for jj in range(tASr):\n",
        "    c += var_ASr[i][jj] \n",
        "\n",
        "  for jjj in range(tE):\n",
        "    c += var_E[i][jjj] \n",
        "\n",
        "  problem += (c == 0)"
      ]
    },
    {
      "cell_type": "code",
      "execution_count": 105,
      "metadata": {},
      "outputs": [],
      "source": [
        "#See the modeled problem\n",
        "#problem"
      ]
    },
    {
      "cell_type": "code",
      "execution_count": 106,
      "metadata": {},
      "outputs": [
        {
          "name": "stdout",
          "output_type": "stream",
          "text": [
            "Solution Time: 0.06005430221557617\n",
            "Solution CPU Time: 0.062000000005355105\n",
            "Status: 1, Optimal\n",
            "Objective: 8580.0\n"
          ]
        }
      ],
      "source": [
        "# Solve the problem\n",
        "\n",
        "status = problem.solve()\n",
        "\n",
        "# Print results\n",
        "print(f\"Solution Time: {problem.solutionTime}\")\n",
        "print(f\"Solution CPU Time: {problem.solutionCpuTime}\")\n",
        "print(f\"Status: {problem.status}, {LpStatus[problem.status]}\")\n",
        "print(f\"Objective: {problem.objective.value()}\")\n"
      ]
    },
    {
      "cell_type": "code",
      "execution_count": 107,
      "metadata": {},
      "outputs": [],
      "source": [
        "# Initialize Matrix with zeros\n",
        "matAJr = np.array([0]*n*tAJr).reshape(n,tAJr)\n",
        "matASr = np.array([0]*n*tASr).reshape(n,tASr)\n",
        "matEsp = np.array([0]*n*tE).reshape(n,tE)\n",
        "\n",
        "for var in problem.variables():\n",
        "    m = var.name.split(\"_\")\n",
        "    if \"AJr\" in m[0] and var.value() == 1:\n",
        "        if \"Absence\" in m[0]:\n",
        "            matAJr[int(m[1])][int(m[2])] = -1\n",
        "        else:\n",
        "            matAJr[int(m[1])][int(m[2])] = 1 \n",
        "    if \"ASr\" in m[0] and var.value() == 1:\n",
        "        if \"Absence\" in m[0]:\n",
        "            matASr[int(m[1])][int(m[2])] = -1\n",
        "        else:\n",
        "            matASr[int(m[1])][int(m[2])] = 1\n",
        "    if \"Esp\" in m[0] and var.value() == 1:\n",
        "        if \"Absence\" in m[0]:\n",
        "            matEsp[int(m[1])][int(m[2])] = -1\n",
        "        else:\n",
        "            matEsp[int(m[1])][int(m[2])] = 1\n",
        "\n",
        "#pmatAJr = pd.DataFrame(matAJr)\n",
        "#pmatASr = pd.DataFrame(matASr)\n",
        "#pmatEsp = pd.DataFrame(matEsp)  \n",
        "\n",
        "matrix = np.concatenate((matAJr,matASr,matEsp), axis=1)\n",
        "#pmatrix = pd.DataFrame(matrix)\n",
        "\n",
        "#print(matrix)\n",
        "#print(pmatrix)"
      ]
    },
    {
      "cell_type": "code",
      "execution_count": 108,
      "metadata": {},
      "outputs": [
        {
          "data": {
            "image/png": "[encoded data removed]",
            "text/plain": [
              "<Figure size 1440x1080 with 1 Axes>"
            ]
          },
          "metadata": {
            "needs_background": "light"
          },
          "output_type": "display_data"
        }
      ],
      "source": [
        "fig = plt.figure(figsize=(20,15))\n",
        "\n",
        "# Creating subplot/axes\n",
        "ax = fig.add_subplot()\n",
        "\n",
        "# Setting axes/plot title\n",
        "ax.set_title('Scheduling')\n",
        "\n",
        "# Setting X-axis and Y-axis labels\n",
        "ax.set_ylabel('Dias')\n",
        "ax.set_xlabel('Funcionários', )\n",
        "\n",
        "ax.matshow(matrix)\n",
        "\n",
        "# Showing the plot\n",
        "plt.show()"
      ]
    },
    {
      "cell_type": "code",
      "execution_count": 109,
      "metadata": {},
      "outputs": [],
      "source": [
        "#sns.clustermap(matrix)"
      ]
    },
    {
      "cell_type": "code",
      "execution_count": 110,
      "metadata": {},
      "outputs": [],
      "source": [
        "#for var in problem.variables():\n",
        "#    print(f\"{var.name}: {var.value()}\")\n",
        "\n",
        "#for name, constraint in problem.constraints.items():\n",
        "#    print(f\"{name}: {constraint.value()}\")"
      ]
    }
  ],
  "metadata": {
    "colab": {
      "authorship_tag": "ABX9TyPV+sd3IMpbceA08oaayVZN",
      "include_colab_link": true,
      "provenance": []
    },
    "kernelspec": {
      "display_name": "Python 3.9.12 ('base')",
      "language": "python",
      "name": "python3"
    },
    "language_info": {
      "codemirror_mode": {
        "name": "ipython",
        "version": 3
      },
      "file_extension": ".py",
      "mimetype": "text/x-python",
      "name": "python",
      "nbconvert_exporter": "python",
      "pygments_lexer": "ipython3",
      "version": "3.9.12"
    },
    "vscode": {
      "interpreter": {
        "hash": "86ced299d573a58fc1d464bd2f917835a691b9d9cefee14c59fce60008360703"
      }
    }
  },
  "nbformat": 4,
  "nbformat_minor": 0
}
