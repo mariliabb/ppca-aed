{
  "nbformat": 4,
  "nbformat_minor": 0,
  "metadata": {
    "colab": {
      "provenance": [],
      "authorship_tag": "ABX9TyPV+sd3IMpbceA08oaayVZN",
      "include_colab_link": true
    },
    "kernelspec": {
      "name": "python3",
      "display_name": "Python 3"
    },
    "language_info": {
      "name": "python"
    }
  },
  "cells": [
    {
      "cell_type": "markdown",
      "metadata": {
        "id": "view-in-github",
        "colab_type": "text"
      },
      "source": [
        "<a href=\"https://colab.research.google.com/github/brunogresende/ppca-aed/blob/main/Aloca%C3%A7%C3%A3o_de_Pessoas_em_Trabalho_Remoto_Scheduling_Problem.ipynb\" target=\"_parent\"><img src=\"https://colab.research.google.com/assets/colab-badge.svg\" alt=\"Open In Colab\"/></a>"
      ]
    },
    {
      "cell_type": "code",
      "execution_count": 14,
      "metadata": {
        "colab": {
          "base_uri": "https://localhost:8080/"
        },
        "id": "fYkpDrdQFY-4",
        "outputId": "5470d9fd-7747-47a1-9a94-a64694621bc9"
      },
      "outputs": [
        {
          "output_type": "stream",
          "name": "stdout",
          "text": [
            "1\n",
            "Status Optimal\n"
          ]
        }
      ],
      "source": [
        "#!pip install -U pulp\n",
        "import pulp\n",
        "\n",
        "n = 20\n",
        "tAJr = 30\n",
        "tASr = 9\n",
        "tE = 2\n",
        "t = tAJr + tASr + tE\n",
        "\n",
        "var_L = pulp.LpVariable.dicts(\"Leave\", (range(n), range(t)), 0, 1, \"Binary\")\n",
        "var_E = pulp.LpVariable.dicts(\"HomeEsp\", (range(n), range(tE)), 0, 1, \"Binary\")\n",
        "var_AJr = pulp.LpVariable.dicts(\"HomeAJr\", (range(n), range(tAJr)), 0, 1, \"Binary\")\n",
        "var_ASr = pulp.LpVariable.dicts(\"HomeASr\", (range(n), range(tASr)), 0, 1, \"Binary\")\n",
        "\n",
        "#objective function\n",
        "obj = None\n",
        "for i in range(n):\n",
        "  for j in range(tE):\n",
        "    obj += var_E[i][j]\n",
        "    for jj in range(tAJr):\n",
        "      obj += var_AJr[i][jj]\n",
        "      for jjj in range(tASr):\n",
        "        obj += var_ASr[i][jjj]\n",
        "\n",
        "problem = pulp.LpProblem(\"schedule\", pulp.LpMaximize)\n",
        "problem += obj\n",
        "\n",
        "#constraint 1\n",
        "c = None\n",
        "for i in range(n):\n",
        "  for j in range(tE):\n",
        "    c += var_E[i][j]\n",
        "    for jj in range(tAJr):\n",
        "      c += var_AJr[i][jj]\n",
        "      for jjj in range(tASr):\n",
        "        c += var_ASr[i][jjj]\n",
        "        problem += c == 1\n",
        "\n",
        "status = problem.solve()\n",
        "print(status)\n",
        "print(\"Status\", pulp.LpStatus[status])"
      ]
    }
  ]
}