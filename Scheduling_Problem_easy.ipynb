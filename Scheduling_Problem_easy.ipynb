{
  "cells": [
    {
      "cell_type": "markdown",
      "metadata": {
        "colab_type": "text",
        "id": "view-in-github"
      },
      "source": [
        "<a href=\"https://colab.research.google.com/github/brunogresende/ppca-aed/blob/main/Aloca%C3%A7%C3%A3o_de_Pessoas_em_Trabalho_Remoto_Scheduling_Problem.ipynb\" target=\"_parent\"><img src=\"https://colab.research.google.com/assets/colab-badge.svg\" alt=\"Open In Colab\"/></a>"
      ]
    },
    {
      "cell_type": "code",
      "execution_count": 157,
      "metadata": {},
      "outputs": [],
      "source": [
        "#!pip install -U pulp\n",
        "from pulp import LpMaximize, LpProblem, LpStatus, lpSum, LpVariable, LpConstraint\n",
        "import math"
      ]
    },
    {
      "cell_type": "code",
      "execution_count": 158,
      "metadata": {
        "colab": {
          "base_uri": "https://localhost:8080/"
        },
        "id": "fYkpDrdQFY-4",
        "outputId": "5470d9fd-7747-47a1-9a94-a64694621bc9"
      },
      "outputs": [],
      "source": [
        "#notations\n",
        "n     = 20  #number of days\n",
        "#tAJr  = 5  #number of junior analysts\n",
        "#tASr  = 1  #number of senior analysts\n",
        "#tE    = 1  #humber of specialists\n",
        "#max_absence = int((tAJr + tASr + tE)*0.3) #max absence allowed in team\n",
        "t     = 50 #number of employees\n",
        "max_day_absence = math.floor(t*0.3) #max absence allowed in team\n",
        "\n",
        "#decision variables\n",
        "var_L   = LpVariable.dicts(\"Absence\", (range(n), range(t)), 0, 1, \"Binary\")\n",
        "var_E   = LpVariable.dicts(\"Remote\", (range(n), range(t)), 0, 1, \"Binary\")\n",
        "#var_L   = LpVariable.dicts(\"Leave\", (range(n), range(tAJr + tASr + tE)), 0, 1, \"Binary\")\n",
        "#var_E   = LpVariable.dicts(\"HomeEsp\", (range(n), range(tE)), 0, 1, \"Binary\")\n",
        "#var_AJr = LpVariable.dicts(\"HomeAJr\", (range(n), range(tAJr)), 0, 1, \"Binary\")\n",
        "#var_ASr = LpVariable.dicts(\"HomeASr\", (range(n), range(tASr)), 0, 1, \"Binary\")\n",
        "\n",
        "#objective function\n",
        "obj = None\n",
        "for i in range(n):\n",
        "  for j in range(t):\n",
        "    obj += var_E[i][j] #+ var_L[i][j]\n",
        "\n",
        "#for i in range(n):\n",
        "#  for j in range(tE):\n",
        "#    obj += var_E[i][j]\n",
        "#    for jj in range(tAJr):\n",
        "#      obj += var_AJr[i][jj]\n",
        "#      for jjj in range(tASr):\n",
        "#        obj += var_ASr[i][jjj]\n",
        "\n",
        "problem = LpProblem(\"Schedule\", LpMaximize)\n",
        "problem += obj\n"
      ]
    },
    {
      "cell_type": "code",
      "execution_count": 159,
      "metadata": {},
      "outputs": [
        {
          "data": {
            "text/plain": [
              "15"
            ]
          },
          "execution_count": 159,
          "metadata": {},
          "output_type": "execute_result"
        }
      ],
      "source": [
        "max_day_absence"
      ]
    },
    {
      "cell_type": "code",
      "execution_count": 160,
      "metadata": {},
      "outputs": [],
      "source": [
        "#constraint 0\n",
        "#absences configuration\n",
        "\n",
        "#funci 5, 0-5 dias de férias\n",
        "for i in range(0,5):\n",
        "  problem += var_L[i][5] == 1\n",
        "\n",
        "#funci 3, 5-15 dias de férias\n",
        "for i in range(5,15):\n",
        "  problem += var_L[i][3] == 1\n",
        "\n",
        "#funci 7, 3 dias de abono\n",
        "for i in range(17,19):\n",
        "  problem += var_L[i][7] == 1\n",
        "\n",
        "#funci 8, 2 dias de abono\n",
        "for i in range(4,6):\n",
        "  problem += var_L[i][8] == 1\n"
      ]
    },
    {
      "cell_type": "code",
      "execution_count": 161,
      "metadata": {},
      "outputs": [],
      "source": [
        "#constraint 1\n",
        "#cada funcionário poderá estar trabalhando remoto (1), trabalhando no escritório (0) ou ausente (1), de forma excludente. \n",
        "c = None\n",
        "for i in range(n):\n",
        "  for j in range(t):\n",
        "    c = lpSum(var_E[i][j] + var_L[i][j]) <= 1\n",
        "    problem += c  \n",
        "        \n",
        "#constraint 2 \n",
        "#cada funcionário poderá ser alocado no máximo 8 dias em home-office no mês. \n",
        "for j in range(t):\n",
        "  c = None\n",
        "  for i in range(n):\n",
        "    c += var_E[i][j]\n",
        "  problem += c <=8\n",
        "\n",
        "#constraint 3\n",
        "#a quantidade máxima de ausências do escritório em um dia deve ser no máximo 30% do total de funcionários da equipe. \n",
        "c = None\n",
        "for i in range(n):\n",
        "  for j in range(t):\n",
        "    c += var_E[i][j] + var_L[i][j]\n",
        "problem += (c <= max_day_absence*n)"
      ]
    },
    {
      "cell_type": "code",
      "execution_count": 162,
      "metadata": {},
      "outputs": [],
      "source": [
        "# See the modeled problem\n",
        "#problem"
      ]
    },
    {
      "cell_type": "code",
      "execution_count": 163,
      "metadata": {},
      "outputs": [
        {
          "name": "stdout",
          "output_type": "stream",
          "text": [
            "Solution Time: 0.07715296745300293\n",
            "Solution CPU Time: 0.07800000000133878\n",
            "Status: 1, Optimal\n",
            "Objective: 281.0\n"
          ]
        }
      ],
      "source": [
        "# Solve the problem\n",
        "status = problem.solve()\n",
        "\n",
        "# print results\n",
        "print(f\"Solution Time: {problem.solutionTime}\")\n",
        "print(f\"Solution CPU Time: {problem.solutionCpuTime}\")\n",
        "print(f\"Status: {problem.status}, {LpStatus[problem.status]}\")\n",
        "print(f\"Objective: {problem.objective.value()}\")\n",
        "\n",
        "#for var in problem.variables():\n",
        "#    print(f\"{var.name}: {var.value()}\")\n",
        "\n",
        "#for name, constraint in problem.constraints.items():\n",
        "#    print(f\"{name}: {constraint.value()}\")"
      ]
    }
  ],
  "metadata": {
    "colab": {
      "authorship_tag": "ABX9TyPV+sd3IMpbceA08oaayVZN",
      "include_colab_link": true,
      "provenance": []
    },
    "kernelspec": {
      "display_name": "Python 3.9.12 ('base')",
      "language": "python",
      "name": "python3"
    },
    "language_info": {
      "codemirror_mode": {
        "name": "ipython",
        "version": 3
      },
      "file_extension": ".py",
      "mimetype": "text/x-python",
      "name": "python",
      "nbconvert_exporter": "python",
      "pygments_lexer": "ipython3",
      "version": "3.9.12"
    },
    "vscode": {
      "interpreter": {
        "hash": "86ced299d573a58fc1d464bd2f917835a691b9d9cefee14c59fce60008360703"
      }
    }
  },
  "nbformat": 4,
  "nbformat_minor": 0
}
